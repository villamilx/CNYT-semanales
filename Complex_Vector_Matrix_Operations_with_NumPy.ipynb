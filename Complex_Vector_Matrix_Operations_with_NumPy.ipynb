{
 "cells": [
  {
   "cell_type": "markdown",
   "id": "a07bd584",
   "metadata": {},
   "source": [
    "# Theory of Complex Vector Spaces\n",
    "Complex vector spaces extend the idea of real vector spaces by allowing vectors to have complex numbers as their components. In these spaces, vectors can be added together and multiplied by complex scalars to produce new vectors. Key operations in complex vector spaces include vector addition, scalar multiplication, vector negation, and complex conjugation."
   ]
  },
  {
   "cell_type": "markdown",
   "id": "f43fc972-23ab-4d81-aa26-c51325dac8f3",
   "metadata": {},
   "source": [
    "# Creating complex column vectors"
   ]
  },
  {
   "cell_type": "code",
   "execution_count": null,
   "id": "029f08ba-1cdc-4928-9631-f62c51ab7aa5",
   "metadata": {},
   "outputs": [],
   "source": [
    "import numpy as np\n",
    "\n",
    "# Define a 2x2 square matrix\n",
    "matrix = np.array([[2, 3],\n",
    "                   [1, 4]])\n",
    "\n",
    "# Define a vector of size 2\n",
    "vector = np.array([5, 6])\n",
    "\n",
    "# Multiply the matrix by the vector\n",
    "result = np.dot(matrix, vector)\n",
    "\n",
    "# Display the result\n",
    "print(\"Matrix:\\n\", matrix)\n",
    "print(\"\\nVector:\\n\", vector)\n",
    "print(\"\\nResult of multiplication:\\n\", result)\n"
   ]
  },
  {
   "cell_type": "markdown",
   "id": "975c2284",
   "metadata": {},
   "source": [
    "## Manipulating Complex Column Vectors using NumPy\n",
    "Here we demonstrate how to manipulate complex column vectors using NumPy, including operations like sum, negation, multiplication by a scalar, transpose, adjunct, and conjugate."
   ]
  },
  {
   "cell_type": "code",
   "execution_count": null,
   "id": "e8058abe",
   "metadata": {},
   "outputs": [],
   "source": [
    "\n",
    "import numpy as np\n",
    "\n",
    "# Define two complex column vectors\n",
    "v1 = np.array([[2+3j], [5-4j], [1+1j]])\n",
    "v2 = np.array([[1-1j], [3+2j], [4-4j]])\n",
    "\n",
    "# Sum\n",
    "sum_v = v1 + v2\n",
    "\n",
    "# Negation\n",
    "neg_v1 = -v1\n",
    "\n",
    "# Multiplication by a scalar\n",
    "scalar = 2 + 1j\n",
    "mult_v1 = v1 * scalar\n",
    "\n",
    "# Transpose\n",
    "transpose_v1 = v1.T\n",
    "\n",
    "# Adjunct (Conjugate transpose)\n",
    "adjunct_v1 = v1.T.conj()\n",
    "\n",
    "# Conjugate\n",
    "conjugate_v1 = np.conjugate(v1)\n",
    "\n",
    "(sum_v, neg_v1, mult_v1, transpose_v1, adjunct_v1, conjugate_v1)\n"
   ]
  },
  {
   "cell_type": "markdown",
   "id": "995ae5fc",
   "metadata": {},
   "source": [
    "# Theory of Vector Spaces using Matrices\n",
    "In the context of matrices, vector spaces can be defined where each vector is a matrix of a particular size. Operations on these matrix-vector spaces include matrix addition, scalar multiplication, matrix negation, transpose, adjunct, and conjugate. In this section, we focus on square matrices of size 3x3."
   ]
  },
  {
   "cell_type": "markdown",
   "id": "9385c1f0",
   "metadata": {},
   "source": [
    "## Manipulating Square Matrices using NumPy\n",
    "Examples of how to manipulate 3x3 square matrices using NumPy, showing operations such as sum, negation, multiplication by a scalar, conjugate, transpose, and adjunct."
   ]
  },
  {
   "cell_type": "code",
   "execution_count": null,
   "id": "b81ecc57",
   "metadata": {},
   "outputs": [],
   "source": [
    "\n",
    "# Define two 3x3 complex matrices\n",
    "m1 = np.array([[2+3j, 4-1j, 0], \n",
    "               [1+1j, 3+3j, 5], \n",
    "               [4, 6-2j, 1-1j]])\n",
    "m2 = np.array([[1, 2+1j, 3-3j], \n",
    "               [0, -1+2j, 1-2j], \n",
    "               [3+3j, 2, 4+4j]])\n",
    "\n",
    "# Sum\n",
    "sum_m = m1 + m2\n",
    "\n",
    "# Negation\n",
    "neg_m1 = -m1\n",
    "\n",
    "# Multiplication by a scalar\n",
    "scalar = 0.5 + 0.5j\n",
    "mult_m1 = m1 * scalar\n",
    "\n",
    "# Conjugate\n",
    "conjugate_m1 = np.conjugate(m1)\n",
    "\n",
    "# Transpose\n",
    "transpose_m1 = m1.T\n",
    "\n",
    "# Adjunct (Conjugate transpose)\n",
    "adjunct_m1 = m1.T.conj()\n",
    "\n",
    "(sum_m, neg_m1, mult_m1, conjugate_m1, transpose_m1, adjunct_m1)\n"
   ]
  },
  {
   "cell_type": "markdown",
   "id": "ed909545-8a5c-4cca-85f7-48688b597598",
   "metadata": {},
   "source": [
    "## Checking the Dimension of a Matrix\n",
    "We can check the dimension of a matrix using the `.shape` attribute."
   ]
  },
  {
   "cell_type": "code",
   "execution_count": null,
   "id": "0930dc10-af6d-427f-bbcb-75bfaf051db5",
   "metadata": {},
   "outputs": [],
   "source": [
    "# Checking the dimension of matrix1\n",
    "m1.shape"
   ]
  },
  {
   "cell_type": "markdown",
   "id": "b3fe896b",
   "metadata": {},
   "source": [
    "## Action of a Matrix on a Vector\n",
    "Finally, examples of how to use Python to multiply a 3x3 square matrix by a 3x1 column vector."
   ]
  },
  {
   "cell_type": "code",
   "execution_count": null,
   "id": "e514d047",
   "metadata": {},
   "outputs": [],
   "source": [
    "\n",
    "# Multiplying a 3x3 matrix by a 3x1 vector\n",
    "result = np.dot(m1, v1)\n",
    "result\n"
   ]
  },
  {
   "cell_type": "markdown",
   "id": "5adf9d8a-af43-4074-ab1a-3cabdc4accff",
   "metadata": {},
   "source": [
    "# Exercises on Complex Vectors and Matrices with Concrete Cases\n",
    "\n",
    "This set of exercises focuses on operations with complex column vectors and complex square matrices, including concrete cases with vectors and matrices written in LaTeX format.\n",
    "\n",
    "## Complex Column Vector Operations\n",
    "\n",
    "### Exercise 1: Sum of Two Complex Vectors\n",
    "Given two complex vectors \n",
    "$ v1 = \\begin{bmatrix} 1 + 2i \\\\ 3 - i \\end{bmatrix} $ \n",
    "and \n",
    "$ v2 = \\begin{bmatrix} 2 - i \\\\ 4 + 2i \\end{bmatrix} $, \n",
    "find their sum.\n",
    "\n",
    "### Exercise 2: Negation of a Complex Vector\n",
    "Given a complex vector \n",
    "$ v = \\begin{bmatrix} 2 + 3i \\\\ 1 - 2i \\end{bmatrix} $, \n",
    "find its negation.\n",
    "\n",
    "### Exercise 3: Multiplication of a Complex Vector by a Scalar\n",
    "Multiply the complex vector \n",
    "$ v = \\begin{bmatrix} 1 - i \\\\ 2 + 2i \\end{bmatrix} $ \n",
    "by the complex scalar $$ 3 + i $$.\n",
    "\n",
    "### Exercise 4: Transpose of a Complex Vector\n",
    "Find the transpose of the complex vector \n",
    "$ v = \\begin{bmatrix} 2 - i \\\\ 3 + 4i \\end{bmatrix} $.\n",
    "\n",
    "### Exercise 5: Conjugate of a Complex Vector\n",
    "Compute the conjugate of the complex vector \n",
    "$ v = \\begin{bmatrix} 1 + i \\\\ 2 - 3i \\end{bmatrix} $.\n",
    "\n",
    "### Exercise 6: Adjunct (Conjugate Transpose) of a Complex Vector\n",
    "Find the adjunct (or conjugate transpose) of the complex vector \n",
    "$ v = \\begin{bmatrix} 1 - 2i \\\\ 3 + i \\end{bmatrix} $.\n",
    "\n",
    "## Complex Square Matrix Operations\n",
    "\n",
    "### Exercise 7: Sum of Two Complex Matrices\n",
    "Given two complex matrices \n",
    "$ m1 = \\begin{bmatrix} 1 + i & 2 - i \\\\ 3 + 2i & 4 \\end{bmatrix} $\n",
    "and \n",
    "$ m2 = \\begin{bmatrix} 2 - 3i & 1 \\\\ i & 2 + 2i \\end{bmatrix} $, \n",
    "calculate their sum.\n",
    "\n",
    "### Exercise 8: Negation of a Complex Matrix\n",
    "Find the negation of the complex matrix \n",
    "$ m = \\begin{bmatrix} 2 + i & 3 \\\\ 1 - i & 2 + 2i \\end{bmatrix} $.\n",
    "\n",
    "### Exercise 9: Multiplication of a Complex Matrix by a Scalar\n",
    "Multiply the complex matrix \n",
    "$ m = \\begin{bmatrix} 1 - i & 2 \\\\ 3 + i & 4 - 2i \\end{bmatrix} $ \n",
    "by the complex scalar $$ 2 + 3i $$.\n",
    "\n",
    "### Exercise 10: Conjugate of a Complex Matrix\n",
    "Compute the conjugate of the complex matrix \n",
    "$ m = \\begin{bmatrix} 1 + i & 2 \\\\ 3 - i & 4 + 2i \\end{bmatrix} $.\n",
    "\n",
    "### Exercise 11: Transpose of a Complex Matrix\n",
    "Find the transpose of the complex matrix \n",
    "$ m = \\begin{bmatrix} 1 - i & 2 + 2i \\\\ 3 & 4 - i \\end{bmatrix} $.\n",
    "\n",
    "### Exercise 12: Adjunct (Conjugate Transpose) of a Complex Matrix\n",
    "Calculate the adjunct (or conjugate transpose) of the complex matrix \n",
    "$ m = \\begin{bmatrix} 1 + 2i & 3 - i \\\\ 4 & 5 + i \\end{bmatrix} $.\n",
    "\n",
    "### Exercise 13: Checking the Dimensions of a Matrix\n",
    "Determine the dimensions of the complex matrix \n",
    "$ m = \\begin{bmatrix} 1 - i & 2 \\\\ 3 + 2i & 4 - i \\end{bmatrix} $.\n",
    "\n",
    "## Multiplication of Matrices and Vectors\n",
    "\n",
    "### Exercise 14: Multiplying a Complex Square Matrix by a Complex Column Vector\n",
    "Multiply the complex square matrix \n",
    "$ m = \\begin{bmatrix} 1 + i & 2 - i \\\\ 3 & 4 + i \\end{bmatrix} $ \n",
    "by the complex column vector \n",
    "$ v = \\begin{bmatrix} 2 - i \\\\ 1 + 3i \\end{bmatrix} $.\n",
    "\n",
    "## Instructions\n",
    "For each exercise, ensure to display both the input (vectors/matrices) and the result of the operation.Use NumPy for these exercises to practice handling complex numbers and matrix operations in Python.\n"
   ]
  },
  {
   "cell_type": "markdown",
   "id": "425b3667",
   "metadata": {},
   "source": [
    "# RESPUESTAS \n",
    "## Ejercicio 1:\n",
    "Dado dos vectores complejos\n",
    "$$ v1 = \\begin{bmatrix} 1 + 2i \\\\ 3 - i \\end{bmatrix} $$ \n",
    "y \n",
    "$$ v2 = \\begin{bmatrix} 2 - i \\\\ 4 + 2i \\end{bmatrix} $$\n",
    "Encuentra su suma.\n",
    "\n",
    "## Respuesta\n",
    "La suma de estos dos vectores es:\n",
    "$$ v1 + v2 = \\begin{bmatrix} 3 + i \\\\ 7 + i \\end{bmatrix} $$"
   ]
  },
  {
   "cell_type": "code",
   "execution_count": null,
   "id": "424c0396",
   "metadata": {},
   "outputs": [],
   "source": [
    "import numpy as np\n",
    "\n",
    "v1 = np.array([[1+2j], [3-1j]])\n",
    "v2 = np.array([[2-1j], [4+2j]])\n",
    "print(\"v1 = \",v1)\n",
    "print(\"v2 = \",v1)\n",
    "sum = v1 + v2\n",
    "print(\"v1 + v2 = \",sum)"
   ]
  },
  {
   "cell_type": "markdown",
   "id": "86575788",
   "metadata": {},
   "source": [
    "## Ejercicio 2:\n",
    "vector\n",
    "$$ v = \\begin{bmatrix} 2 + 3i \\\\ 1 - 2i \\end{bmatrix} $$\n",
    "\n",
    "## Respuesta\n",
    "La respuesta de la negación de este vector es:\n",
    "$$ -(v) = \\begin{bmatrix} -2 - 3i \\\\ -1 + 2i \\end{bmatrix} $$"
   ]
  },
  {
   "cell_type": "code",
   "execution_count": null,
   "id": "546622b4",
   "metadata": {},
   "outputs": [],
   "source": [
    "import numpy as np\n",
    "v1 = np.array([[2+3j], [1-2j]])\n",
    "v1neg = -v1\n",
    "print(\"v1 = \",v1)\n",
    "print(\"-(v1) = \",v1neg)"
   ]
  },
  {
   "cell_type": "markdown",
   "id": "2deed59f",
   "metadata": {},
   "source": [
    "### Ejercicio 3:\n",
    "Multiplica el vector\n",
    "$$ v = \\begin{bmatrix} 1 - i \\\\ 2 + 2i \\end{bmatrix} $$ \n",
    "por el escalar$$ 3 + i $$\n",
    "\n",
    "## Respuesta\n",
    "El resultado de la multiplicación de este vector complejo por un escalar es:\n",
    "$$ (3+i) *v = \\begin{bmatrix} 4 - 2i \\\\ 4 + 8i \\end{bmatrix} $$"
   ]
  },
  {
   "cell_type": "code",
   "execution_count": null,
   "id": "09b34164",
   "metadata": {},
   "outputs": [],
   "source": [
    "\n",
    "v1 = np.array([[1-1j], [2+2j]])\n",
    "escalar = 3 + 1j\n",
    "mult_v1 = v1 * escalar\n",
    "print(\"v1 = \",v1)\n",
    "print(\"Escalar = \",escalar)\n",
    "print(\"Escalar*v1 = \",mult_v1)"
   ]
  },
  {
   "cell_type": "markdown",
   "id": "54e2faa2",
   "metadata": {},
   "source": [
    "### Ejercicio 4\n",
    "$$ v = \\begin{bmatrix} 2 - i \\\\ 3 + 4i \\end{bmatrix} $$\n",
    "\n",
    "## Respuesta\n",
    "La respuesta de la transposición de este vector es:\n",
    "$$ T(v) = \\begin{bmatrix} 2 - i \\\\ 3 + 4i \\end{bmatrix} $$"
   ]
  },
  {
   "cell_type": "code",
   "execution_count": null,
   "id": "ac87129c",
   "metadata": {},
   "outputs": [],
   "source": [
    "v1 = np.array([[2-1j], [3+4j]])\n",
    "transpose_v1 = v1.T\n",
    "print(\"v1 = \",v1)\n",
    "print(\"transpose = \",transpose_v1)"
   ]
  },
  {
   "cell_type": "markdown",
   "id": "e779399b",
   "metadata": {},
   "source": [
    "### Ejercicio 5\n",
    "$$ v = \\begin{bmatrix} 2 - i \\\\ 3 + 4i \\end{bmatrix} $$\n",
    "\n",
    "## Respuesta\n",
    "larespuesta del conjugado es:\n",
    "$$ C(v) = \\begin{bmatrix} 2 + i \\\\ 3 - 4i \\end{bmatrix} $$"
   ]
  },
  {
   "cell_type": "code",
   "execution_count": null,
   "id": "4ac16345",
   "metadata": {},
   "outputs": [],
   "source": [
    "v1 = np.array([[2-1j], [3+4j]])\n",
    "conjugate_v1 = np.conjugate(v1)\n",
    "print(\"v1 = \",v1)\n",
    "print(\"conjugate = \",conjugate_v1)"
   ]
  },
  {
   "cell_type": "markdown",
   "id": "4a526258",
   "metadata": {},
   "source": [
    "### Ejercicio 6\n",
    "$$ v = \\begin{bmatrix} 1 - 2i \\\\ 3 + i \\end{bmatrix} $$\n",
    "## Respuesta\n",
    "La respuesta de la adjunta es:\n",
    "$$ Adj(v) = \\begin{bmatrix} 1 + 2i \\\\ 3 - i \\end{bmatrix} $$"
   ]
  },
  {
   "cell_type": "code",
   "execution_count": null,
   "id": "d68aad8f",
   "metadata": {},
   "outputs": [],
   "source": [
    "v1 = np.array([[1-2j], [3+1j]])\n",
    "adjunct_v1 = v1.T.conj()\n",
    "print(\"v1 = \",v1)\n",
    "print(\"adjunct = \",adjunct_v1)"
   ]
  },
  {
   "cell_type": "markdown",
   "id": "e3dc6358",
   "metadata": {},
   "source": [
    "## Operaciones con Matrices Cuadradas Complejas\n",
    "\n",
    "### Ejercicio 7\n",
    "$$ m1 = \\begin{bmatrix} 1 + i & 2 - i \\\\ 3 + 2i & 4 \\end{bmatrix} $$ \n",
    "$$ m2 = \\begin{bmatrix} 2 - 3i & 1 \\\\ i & 2 + 2i \\end{bmatrix} $$\n",
    "\n",
    "## Respuesta\n",
    "La respuesta de la suma es:\n",
    "$$ m1 + m2 = \\begin{bmatrix} 3 - 2i & 4 + 2i \\\\ 2  & 6 + 2i \\end{bmatrix} $$"
   ]
  },
  {
   "cell_type": "code",
   "execution_count": null,
   "id": "24f5eac3",
   "metadata": {},
   "outputs": [],
   "source": [
    "m1 = np.array([[1+1j, 3+2j], [2-1j, 4]])\n",
    "m2 = np.array([[2-3j, 1], [1j, 2+2j]])\n",
    "sum_m = m1 + m2\n",
    "print(\"m1 = \",m1)\n",
    "print(\"m2 = \",m2)\n",
    "print(\"m1+m2 = \",sum_m)"
   ]
  },
  {
   "cell_type": "markdown",
   "id": "726d45a7",
   "metadata": {},
   "source": [
    "### Ejercicio 8\n",
    "$$ m = \\begin{bmatrix} 2 + i & 3 \\\\ 1 - i & 2 + 2i \\end{bmatrix} $$\n",
    "\n",
    "## Respuesta\n",
    "$$ -(m) = \\begin{bmatrix} -2 - i & -3 \\\\ -1 + i  & -2 - 2i \\end{bmatrix} $$"
   ]
  },
  {
   "cell_type": "code",
   "execution_count": null,
   "id": "cb16e5ab",
   "metadata": {},
   "outputs": [],
   "source": [
    "m1 = np.array([[2+1j, 3], [1-1j, 2+2j]])\n",
    "neg_m1 = -m1\n",
    "print(\"m1 = \",m1)\n",
    "print(\"m1+m2 = \",neg_m1)"
   ]
  },
  {
   "cell_type": "markdown",
   "id": "9320ddde",
   "metadata": {},
   "source": [
    "### Ejercicio 9\n",
    "$$ m = \\begin{bmatrix} 1 - i & 2 \\\\ 3 + i & 4 - 2i \\end{bmatrix} $$ \n",
    "$$ 2 + 3i $$\n",
    "\n",
    "## Respuesta\n",
    "La respuesta de la multiplicación es:\n",
    "$$ (2 + 3i)*m = \\begin{bmatrix} 5 + i & 4 + 6i \\\\ 3 + 11i  & 14 + 8i \\end{bmatrix} $$"
   ]
  },
  {
   "cell_type": "code",
   "execution_count": null,
   "id": "ae1e29d9",
   "metadata": {},
   "outputs": [],
   "source": [
    "m1 = np.array([[1 - 1j, 2], [3 + 1j, 4 - 2j]])\n",
    "Escalar = 2 + 3j\n",
    "mult_m1 = m1 * Escalar\n",
    "print(\"m1 = \",m1)\n",
    "print(\"m1+m2 = \",mult_m1)"
   ]
  },
  {
   "cell_type": "markdown",
   "id": "a8321b9a",
   "metadata": {},
   "source": [
    "### Ejercicio 10\n",
    "$$ m = \\begin{bmatrix} 1 + i & 2 \\\\ 3 - i & 4 + 2i \\end{bmatrix} $$\n",
    "\n",
    "## Respuesta\n",
    "La respuesta del conjugado es:\n",
    "$$ C(m)  = \\begin{bmatrix} 1 - i & 2 \\\\ 3 + i  & 4 - 2i \\end{bmatrix} $$"
   ]
  },
  {
   "cell_type": "code",
   "execution_count": null,
   "id": "5c5759d8",
   "metadata": {},
   "outputs": [],
   "source": [
    "m1 = np.array([[1+1j, 2], [3-1j, 4+2j]])\n",
    "conjugate_m1 = np.conjugate(m1)\n",
    "\n",
    "print(\"m1 = \",m1)\n",
    "print(\"C(m1) = \",conjugate_m1)"
   ]
  },
  {
   "cell_type": "markdown",
   "id": "954c9ba8",
   "metadata": {},
   "source": [
    "### Ejercicio 11\n",
    "$$ m = \\begin{bmatrix} 1 - i & 2 + 2i \\\\ 3 & 4 - i \\end{bmatrix} $$\n",
    "\n",
    "## Respuesta\n",
    "La respuesta de la transpuesta es:\n",
    "$$ T(m) = \\begin{bmatrix} 1 - i & 3 \\\\ 2+ 2i  & 4 - 1i \\end{bmatrix} $$"
   ]
  },
  {
   "cell_type": "code",
   "execution_count": null,
   "id": "3d2aeb42",
   "metadata": {},
   "outputs": [],
   "source": [
    "m1 = np.array([[1-1j, 2+2j], [3, 4-1j]])\n",
    "transpose_m1 = m1.T\n",
    "\n",
    "print(\"m1 = \",m1)\n",
    "print(\"T(m1) = \",transpose_m1)"
   ]
  },
  {
   "cell_type": "markdown",
   "id": "7e6cf9c0",
   "metadata": {},
   "source": [
    "### Ejercicio 12\n",
    "$$ m = \\begin{bmatrix} 1 + 2i & 3 - i \\\\ 4 & 5 + i \\end{bmatrix} $$\n",
    "\n",
    "## Respuesta\n",
    "La respuesta de la adjunta es:\n",
    "$$ Adj(m) = \\begin{bmatrix} 1 - 2i & 4 \\\\ 3 + i  & 5 - i \\end{bmatrix} $$"
   ]
  },
  {
   "cell_type": "code",
   "execution_count": null,
   "id": "f14928e5",
   "metadata": {},
   "outputs": [],
   "source": [
    "m1 = np.array([[1+2j, 3-1j], [4, 5+1j]])\n",
    "adjunct_m1 = m1.T.conj()\n",
    "\n",
    "print(\"m1 = \",m1)\n",
    "print(\"Adj(m1) = \",adjunct_m1)"
   ]
  },
  {
   "cell_type": "markdown",
   "id": "e4fae6c7",
   "metadata": {},
   "source": [
    "### Ejercicio 13\n",
    "$$ m = \\begin{bmatrix} 1 - i & 2 \\\\ 3 + 2i & 4 - i \\end{bmatrix} $$\n",
    "\n",
    "## Respuesta\n",
    "La respuesta de las dimensiones es:\n",
    "$$ Dim(m) =  (2,2)$$"
   ]
  },
  {
   "cell_type": "code",
   "execution_count": null,
   "id": "374f6233",
   "metadata": {},
   "outputs": [],
   "source": [
    "m1 = np.array([[1-1j, 2], [3+2j, 4-1j]])\n",
    "dimension_m1=m1.shape\n",
    "print(\"m1 = \",m1)\n",
    "print(\"Dim(m1) = \",dimension_m1)\n"
   ]
  },
  {
   "cell_type": "markdown",
   "id": "2a105dbf",
   "metadata": {},
   "source": [
    "## Multiplicación de Matrices y Vectores\n",
    "\n",
    "### Ejercicio 14\n",
    "$$ m = \\begin{bmatrix} 1 + i & 2 - i \\\\ 3 & 4 + i \\end{bmatrix} $$ \n",
    "$$ v = \\begin{bmatrix} 2 - i \\\\ 1 + 3i \\end{bmatrix} $$\n",
    "\n",
    "## Respuesta\n",
    "La respuesta de la multiplicación es:\n",
    "$$ m1*v1 = \\begin{bmatrix} 8 + 6i \\\\ 7 + 10j \\end{bmatrix} $$"
   ]
  },
  {
   "cell_type": "code",
   "execution_count": null,
   "id": "cef18050",
   "metadata": {},
   "outputs": [],
   "source": [
    "m1 = np.array([[1+1j, 2-1j], [3, 4+1j]])\n",
    "v1 = np.array([[2-1j], [1+3j]])\n",
    "result = np.dot(m1, v1)\n",
    "\n",
    "print(\"m1 = \",m1)\n",
    "print(\"v1 = \",v1)\n",
    "print(\"m1*v1 = \",result)"
   ]
  }
 ],
 "metadata": {
  "kernelspec": {
   "display_name": "Python 3 (ipykernel)",
   "language": "python",
   "name": "python3"
  },
  "language_info": {
   "codemirror_mode": {
    "name": "ipython",
    "version": 3
   },
   "file_extension": ".py",
   "mimetype": "text/x-python",
   "name": "python",
   "nbconvert_exporter": "python",
   "pygments_lexer": "ipython3",
   "version": "3.12.1"
  }
 },
 "nbformat": 4,
 "nbformat_minor": 5
}
